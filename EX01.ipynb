{
 "cells": [
  {
   "cell_type": "code",
   "execution_count": 1,
   "id": "821a67d1",
   "metadata": {},
   "outputs": [
    {
     "name": "stdout",
     "output_type": "stream",
     "text": [
      "5 0 1 4 2 3 7 5 3 5 5 7 7 2 3 3 5 3 6 1\n",
      "The Mean arrival rate is 3.850 \n",
      "The Variance of arrival from feeder is 4.127 \n",
      "The Standard deviation of arrival from feeder is 2.032 \n"
     ]
    }
   ],
   "source": [
    "import numpy as np\n",
    "L=[int(i) for i in input().split()]\n",
    "N=len(L); M=max(L) \n",
    "x=list();f=list()\n",
    "for i in range (M+1):\n",
    "    c = 0\n",
    "    for j in range(N):\n",
    "        if L[j]==i:\n",
    "            c=c+1\n",
    "    f.append(c)\n",
    "    x.append(i)\n",
    "sf=np.sum(f)\n",
    "p=list()\n",
    "for i in range(M+1):\n",
    "    p.append(f[i]/sf) \n",
    "mean=np.inner(x,p)\n",
    "EX2=np.inner(np.square(x),p)\n",
    "var=EX2-mean**2 \n",
    "SD=np.sqrt(var)\n",
    "print(\"The Mean arrival rate is %.3f \"%mean)\n",
    "print(\"The Variance of arrival from feeder is %.3f \"%var) \n",
    "print(\"The Standard deviation of arrival from feeder is %.3F \"%SD)"
   ]
  }
 ],
 "metadata": {
  "kernelspec": {
   "display_name": "Python 3",
   "language": "python",
   "name": "python3"
  },
  "language_info": {
   "codemirror_mode": {
    "name": "ipython",
    "version": 3
   },
   "file_extension": ".py",
   "mimetype": "text/x-python",
   "name": "python",
   "nbconvert_exporter": "python",
   "pygments_lexer": "ipython3",
   "version": "3.8.8"
  }
 },
 "nbformat": 4,
 "nbformat_minor": 5
}
